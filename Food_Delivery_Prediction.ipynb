version https://git-lfs.github.com/spec/v1
oid sha256:45e08f8c064a0733d8aa24c4ef597f4aaa1c6a03726ee3a4824852a2e3b62aea
size 27356700
